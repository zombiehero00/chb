{
  "cells": [
    {
      "cell_type": "code",
      "execution_count": null,
      "metadata": {},
      "outputs": [],
      "source": [
        "#@markdown ## 구글드라이브 연동\n",
        "#@markdown **생성한 이미지를 구글드라이브에 자동저장하려면 체크해주세요**\n",
        "Google_Drive = True #@param {type:\"boolean\"}\n",
        "\n",
        "#@markdown -----\n",
        "#@markdown *아래는 설정할 필요 없어요*\n",
        "\n",
        "#@markdown **구글드라이브에 연결 폴더**\n",
        "Google_Drive_Dir = 'webui' #@param {type:\"string\"}\n",
        "\n",
        "#@markdown **폴더 설명** : 미리 만드셔도 되고 없으면 자동으로 생성해요\n",
        "#@markdown * /output : 생성된 이미지들이 저장되요\n",
        "#@markdown * /checkpoint : 모델(checkpoint)를 넣어주면 읽어올수 있어요\n",
        "#@markdown * /lora : 로라(LoRA)를 넣어주면 읽어올수 있어요\n",
        "#@markdown * /embedding : 임베딩(Textual Inversion)를 넣어주면 읽어올수 있어요\n",
        "#@markdown * /hyperwork : 하이퍼워크(Hyperworks)를 넣어주면 읽어올수 있어요\n",
        "#@markdown * /wildcards : 와일드카드(Wildcards)를 넣어주면 읽어올수 있어요\n",
        "\n",
        "#@markdown **초기모델(checkpoint) URL**\n",
        "Checkpoint_Url = 'https://civitai.com/api/download/models/109123?type=Model&format=SafeTensor&size=pruned&fp=fp16' #@param {type:\"string\"}\n",
        "#@markdown **초기모델 파일명**\n",
        "Checkpoint_Filename = 'DreamShaper_7_BakedVae_pruned.safetensors' #@param {type:\"string\"}\n",
        "\n",
        "Workspace = 'animatediff'\n",
        "\n",
        "if Google_Drive:\n",
        "  from google.colab import drive\n",
        "  drive.mount('/content/drive')\n",
        "\n",
        "!apt -y install -qq aria2\n",
        "!pip install xformers==0.0.20 triton==2.0.0 -U\n",
        "!pip install onnxruntime\n",
        "\n",
        "%cd /content\n",
        "!git clone https://github.com/ninjaneural/animatediff-cli-mix /content/{Workspace}\n",
        "\n",
        "# 구글드라이브 연결\n",
        "!wget https://raw.githubusercontent.com/neuralninja22/colab/master/misc/link_google_drive_animatediff.sh -O /content/link_google_drive.sh\n",
        "!bash /content/link_google_drive.sh {Workspace} {Google_Drive} {Google_Drive_Dir}\n",
        "\n",
        "%cd /content/{Workspace}\n",
        "!pip install -e .\n",
        "\n",
        "!aria2c --console-log-level=error -c -x 16 -s 16 -k 1M \"{Checkpoint_Url}\" -d /content/{Workspace}/data/models/sd -o {Checkpoint_Filename}\n",
        "!aria2c --console-log-level=error -c -x 16 -s 16 -k 1M https://huggingface.co/guoyww/animatediff/resolve/main/mm_sd_v14.ckpt -d /content/{Workspace}/data/models/motion-module -o mm_sd_v14.ckpt\n",
        "!aria2c --console-log-level=error -c -x 16 -s 16 -k 1M https://huggingface.co/guoyww/animatediff/resolve/main/mm_sd_v15.ckpt -d /content/{Workspace}/data/models/motion-module -o mm_sd_v15.ckpt\n",
        "!aria2c --console-log-level=error -c -x 16 -s 16 -k 1M https://huggingface.co/guoyww/animatediff/resolve/main/mm_sd_v15_v2.ckpt -d /content/{Workspace}/data/models/motion-module -o mm_sd_v15_v2.ckpt\n",
        "!aria2c --console-log-level=error -c -x 16 -s 16 -k 1M \"https://civitai.com/api/download/models/5637?type=Model&format=PickleTensor&size=full&fp=fp16\" -d /content/{Workspace}/data/embeddings/ -o ng_deepnegative_v1_75t.pt\n",
        "\n",
        "!wget https://raw.githubusercontent.com/neuralninja22/colab/master/misc/animatediff/prompt_travel.json -O /content/{Workspace}/config/prompts/prompt.json\n",
        "!wget https://raw.githubusercontent.com/neuralninja22/colab/master/misc/animatediff/prompt_runtime.json -O /content/{Workspace}/config/prompts/prompt_runtime.json\n",
        "\n",
        "!sed -i -e \"s/#Checkpoint_Filename#/{Checkpoint_Filename}/\" /content/{Workspace}/config/prompts/prompt.json\n",
        "!sed -i -e \"s/#Checkpoint_Filename#/{Checkpoint_Filename}/\" /content/{Workspace}/config/prompts/prompt_runtime.json\n"
      ]
    },
    {
      "cell_type": "code",
      "execution_count": null,
      "metadata": {},
      "outputs": [],
      "source": [
        "!animatediff generate -c 'config/prompts/prompt.json' -W 512 -H 768 -L 16"
      ]
    }
  ],
  "metadata": {
    "accelerator": "GPU",
    "colab": {
      "collapsed_sections": [],
      "private_outputs": true,
      "provenance": []
    },
    "gpuClass": "standard",
    "kernelspec": {
      "display_name": "Python 3",
      "language": "python",
      "name": "python3"
    },
    "language_info": {
      "name": "python",
      "version": "3.10.11"
    },
    "vscode": {
      "interpreter": {
        "hash": "32c23ec9c124fdbef417fa7c12f036622d7e14abb755fc2527a38410604ea1a4"
      }
    }
  },
  "nbformat": 4,
  "nbformat_minor": 0
}
